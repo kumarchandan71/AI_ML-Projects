{
  "cells": [
    {
      "cell_type": "markdown",
      "metadata": {
        "id": "jxOKBkLS9QZi"
      },
      "source": [
        "#Setting GPU"
      ]
    },
    {
      "cell_type": "code",
      "execution_count": 1,
      "metadata": {
        "colab": {
          "base_uri": "https://localhost:8080/"
        },
        "id": "f9IV-PIzQnuR",
        "outputId": "0fe25130-583b-418b-e503-bed00b51d544"
      },
      "outputs": [
        {
          "name": "stdout",
          "output_type": "stream",
          "text": [
            "We are training on cuda:0 for this experiment\n"
          ]
        }
      ],
      "source": [
        "import torch\n",
        "device=torch.device('cuda:0' if torch.cuda.is_available() else 'cpu')\n",
        "print(f'We are training on {device} for this experiment')\n",
        "assert 'cuda' in repr(device),'GPU is not selected in hardware accelerator dropdown '"
      ]
    },
    {
      "cell_type": "code",
      "execution_count": 3,
      "metadata": {
        "colab": {
          "base_uri": "https://localhost:8080/"
        },
        "id": "HqalkWUpQxSj",
        "outputId": "53b5a3ec-cdfc-4002-97d0-449eab1de7a0"
      },
      "outputs": [
        {
          "name": "stdout",
          "output_type": "stream",
          "text": [
            "Mounted at /content/drive\n"
          ]
        }
      ],
      "source": [
        "from google.colab import drive\n",
        "drive.mount('/content/drive')"
      ]
    },
    {
      "cell_type": "code",
      "execution_count": 4,
      "metadata": {
        "id": "X4m63i5rSM3o"
      },
      "outputs": [],
      "source": [
        "your_google_drive_path = \"/content/drive/MyDrive/checkpoints/\"\n",
        "import os\n",
        "assert os.path.isdir(your_google_drive_path), f\"{your_google_drive_path} is not a valid location\""
      ]
    },
    {
      "cell_type": "code",
      "execution_count": 5,
      "metadata": {
        "id": "BidmBwP9SPqt"
      },
      "outputs": [],
      "source": [
        "%matplotlib inline\n",
        "import torch\n",
        "import torchvision\n",
        "import torchvision.transforms as transforms"
      ]
    },
    {
      "cell_type": "code",
      "execution_count": 6,
      "metadata": {
        "colab": {
          "base_uri": "https://localhost:8080/"
        },
        "id": "623Iugj3SSkQ",
        "outputId": "270a432b-a8dd-4a5a-c7b3-4616bd8a9a67"
      },
      "outputs": [
        {
          "name": "stdout",
          "output_type": "stream",
          "text": [
            "Downloading http://yann.lecun.com/exdb/mnist/train-images-idx3-ubyte.gz\n",
            "Downloading http://yann.lecun.com/exdb/mnist/train-images-idx3-ubyte.gz to ./data/MNIST/raw/train-images-idx3-ubyte.gz\n"
          ]
        },
        {
          "name": "stderr",
          "output_type": "stream",
          "text": [
            "100%|██████████| 9912422/9912422 [00:00<00:00, 224385473.59it/s]"
          ]
        },
        {
          "name": "stdout",
          "output_type": "stream",
          "text": [
            "Extracting ./data/MNIST/raw/train-images-idx3-ubyte.gz to ./data/MNIST/raw\n"
          ]
        },
        {
          "name": "stderr",
          "output_type": "stream",
          "text": [
            "\n"
          ]
        },
        {
          "name": "stdout",
          "output_type": "stream",
          "text": [
            "\n",
            "Downloading http://yann.lecun.com/exdb/mnist/train-labels-idx1-ubyte.gz\n",
            "Downloading http://yann.lecun.com/exdb/mnist/train-labels-idx1-ubyte.gz to ./data/MNIST/raw/train-labels-idx1-ubyte.gz\n"
          ]
        },
        {
          "name": "stderr",
          "output_type": "stream",
          "text": [
            "100%|██████████| 28881/28881 [00:00<00:00, 31164315.37it/s]\n"
          ]
        },
        {
          "name": "stdout",
          "output_type": "stream",
          "text": [
            "Extracting ./data/MNIST/raw/train-labels-idx1-ubyte.gz to ./data/MNIST/raw\n",
            "\n",
            "Downloading http://yann.lecun.com/exdb/mnist/t10k-images-idx3-ubyte.gz\n",
            "Downloading http://yann.lecun.com/exdb/mnist/t10k-images-idx3-ubyte.gz to ./data/MNIST/raw/t10k-images-idx3-ubyte.gz\n"
          ]
        },
        {
          "name": "stderr",
          "output_type": "stream",
          "text": [
            "100%|██████████| 1648877/1648877 [00:00<00:00, 78708632.33it/s]"
          ]
        },
        {
          "name": "stdout",
          "output_type": "stream",
          "text": [
            "Extracting ./data/MNIST/raw/t10k-images-idx3-ubyte.gz to ./data/MNIST/raw\n",
            "\n",
            "Downloading http://yann.lecun.com/exdb/mnist/t10k-labels-idx1-ubyte.gz\n"
          ]
        },
        {
          "name": "stderr",
          "output_type": "stream",
          "text": [
            "\n"
          ]
        },
        {
          "name": "stdout",
          "output_type": "stream",
          "text": [
            "Downloading http://yann.lecun.com/exdb/mnist/t10k-labels-idx1-ubyte.gz to ./data/MNIST/raw/t10k-labels-idx1-ubyte.gz\n"
          ]
        },
        {
          "name": "stderr",
          "output_type": "stream",
          "text": [
            "100%|██████████| 4542/4542 [00:00<00:00, 19864993.50it/s]\n"
          ]
        },
        {
          "name": "stdout",
          "output_type": "stream",
          "text": [
            "Extracting ./data/MNIST/raw/t10k-labels-idx1-ubyte.gz to ./data/MNIST/raw\n",
            "\n"
          ]
        }
      ],
      "source": [
        "transform = transforms.Compose(\n",
        "    [transforms.ToTensor(),\n",
        "     transforms.Normalize((0.5), (0.5))])\n",
        "\n",
        "batch_size = 8\n",
        "\n",
        "#Get dataset class object corresponding to train split\n",
        "trainset = torchvision.datasets.MNIST(root='./data', train=True,\n",
        "                                        download=True, transform=transform)\n",
        "\n",
        "#Create data loader from train dataset object\n",
        "trainloader = torch.utils.data.DataLoader(trainset, batch_size=batch_size,\n",
        "                                          shuffle=True, num_workers=2)\n",
        "\n",
        "#Get dataset class object corresponding to test split\n",
        "testset = torchvision.datasets.MNIST(root='./data', train=False,\n",
        "                                       download=True, transform=transform)\n",
        "\n",
        "#Create data loader from test dataset object\n",
        "testloader = torch.utils.data.DataLoader(testset, batch_size=batch_size,\n",
        "                                         shuffle=False, num_workers=2)\n",
        "\n",
        "classes = ('0','1', '2', '3', '4', '5', '6', '7', '8', '9')"
      ]
    },
    {
      "cell_type": "markdown",
      "metadata": {},
      "source": []
    },
    {
      "cell_type": "code",
      "execution_count": 7,
      "metadata": {
        "colab": {
          "base_uri": "https://localhost:8080/",
          "height": 147
        },
        "id": "demalJxJSTcU",
        "outputId": "607e2703-7202-485c-b2f7-0f4ef60cc154"
      },
      "outputs": [
        {
          "data": {
            "image/png": "[encoded data removed]",
            "text/plain": [
              "<Figure size 640x480 with 1 Axes>"
            ]
          },
          "metadata": {},
          "output_type": "display_data"
        },
        {
          "name": "stdout",
          "output_type": "stream",
          "text": [
            "3     0     9     9     8     3     4     1    \n"
          ]
        }
      ],
      "source": [
        "import matplotlib.pyplot as plt\n",
        "import numpy as np\n",
        "\n",
        "# functions to show an image\n",
        "\n",
        "\n",
        "def imshow(img):\n",
        "    img = img / 2 + 0.5     # unnormalize\n",
        "    npimg = img.numpy()\n",
        "    plt.imshow(np.transpose(npimg, (1, 2, 0)))\n",
        "    plt.show()\n",
        "\n",
        "\n",
        "# get some random training images\n",
        "dataiter = iter(trainloader)\n",
        "images, labels = next(dataiter)\n",
        "\n",
        "# show images\n",
        "imshow(torchvision.utils.make_grid(images))\n",
        "# print labels\n",
        "print(' '.join(f'{classes[labels[j]]:5s}' for j in range(batch_size)))"
      ]
    },
    {
      "cell_type": "code",
      "execution_count": 8,
      "metadata": {
        "id": "aG11M72NSczu"
      },
      "outputs": [],
      "source": [
        "import torch.nn as nn\n",
        "import torch.nn.functional as F\n",
        "class Net(nn.Module):\n",
        "    def __init__(self):\n",
        "        super().__init__()\n",
        "        self.conv1 = nn.Conv2d(1, 64, 3,padding= 1)\n",
        "        # self.pool = nn.MaxPool2d(2, 2)\n",
        "        self.bn1 = nn.BatchNorm2d(64)\n",
        "        self.bn2 = nn.BatchNorm2d(128)\n",
        "        self.bn4 = nn.BatchNorm2d(512)\n",
        "        self.bn3 = nn.BatchNorm2d(256)\n",
        "        self.conv2 = nn.Conv2d(64, 128, 3,padding= 1)\n",
        "        self.conv3 = nn.Conv2d(128, 128, 3,padding= 1)\n",
        "        self.conv4 = nn.Conv2d(128, 128, 3, padding= 1)\n",
        "        self.conv5 = nn.Conv2d(128, 256, 3,padding= 1)\n",
        "        self.conv6 = nn.Conv2d(256,512, 3, padding=1)\n",
        "        self.conv7 = nn.Conv2d(512, 512, 3, padding=1)\n",
        "        self.conv8 = nn.Conv2d(512, 512, 3,padding= 1)\n",
        "        self.fc1 = nn.Linear(512, 10)\n",
        "        self.temp = nn.Conv2d(128, 512, 3, padding= 1)\n",
        "    def forward(self, x):\n",
        "        x = F.relu(self.bn1(self.conv1(x)))\n",
        "        x = F.relu(self.bn2(self.conv2(x)))\n",
        "        y = x\n",
        "        x = F.relu(self.bn2(self.conv3(x)))\n",
        "        x = F.relu(self.bn2(self.conv4(x)))\n",
        "        z= self.temp(x)\n",
        "        x = F.relu(self.bn3(self.conv5(x + y)))  # Add y before pooling\n",
        "        x = F.relu(self.bn4(self.conv6(x)))\n",
        "        y = x\n",
        "        x = F.relu(self.bn4(self.conv7(x + z)))  # Add z before convolution\n",
        "        x = F.relu(self.bn4(self.conv8(x)))\n",
        "        x = F.adaptive_avg_pool2d(x + y, (1, 1))  # Add y before pooling\n",
        "        x = torch.flatten(x, 1)\n",
        "        x = self.fc1(x)\n",
        "        x = F.softmax(x, dim=1)\n",
        "        return x\n",
        "net = Net().to(device)"
      ]
    },
    {
      "cell_type": "code",
      "execution_count": 9,
      "metadata": {
        "id": "HAmG_NqMSfrU"
      },
      "outputs": [],
      "source": [
        "import torch.optim as optim\n",
        "\n",
        "criterion = nn.CrossEntropyLoss()\n",
        "optimizer = optim.SGD(net.parameters(), lr=0.01, momentum=0.9)"
      ]
    },
    {
      "cell_type": "code",
      "execution_count": 10,
      "metadata": {
        "id": "vM6FltUiSmCd"
      },
      "outputs": [],
      "source": [
        "def validator(testloader=None,net=None):\n",
        "    correct = 0\n",
        "    total = 0\n",
        "    # since we're not training, we don't need to calculate the gradients for our outputs\n",
        "    with torch.no_grad():\n",
        "        for data in testloader:\n",
        "            images, labels = data\n",
        "            images = images.to(device)\n",
        "            labels = labels.to(device)\n",
        "\n",
        "            # calculate outputs by running images through the network\n",
        "            outputs = net(images)\n",
        "            # the class with the highest energy is what we choose as prediction\n",
        "            # perform max along dimension 1, since dimension 0 is batch dimension\n",
        "            _, predicted = torch.max(outputs.data, 1)\n",
        "            total += labels.size(0)\n",
        "            correct += (predicted == labels).sum().item()\n",
        "\n",
        "    print(f'Accuracy of the network on the {total} test images: {100 * correct // total} %')\n",
        "    return correct/total"
      ]
    },
    {
      "cell_type": "code",
      "execution_count": 11,
      "metadata": {
        "id": "Gm1ixLnZSooU"
      },
      "outputs": [],
      "source": [
        "start_epoch=0\n",
        "end_epoch=10"
      ]
    },
    {
      "cell_type": "markdown",
      "metadata": {
        "id": "pjgUhYtGDrm_"
      },
      "source": [
        "#MNIST dataset"
      ]
    },
    {
      "cell_type": "code",
      "execution_count": null,
      "metadata": {
        "colab": {
          "base_uri": "https://localhost:8080/"
        },
        "id": "6ZMxDHOmSsXz",
        "outputId": "cf8cd4bb-f87c-406a-9cf1-e8161fafcbbe"
      },
      "outputs": [
        {
          "name": "stdout",
          "output_type": "stream",
          "text": [
            "[1,  2000] loss: 1.797\n",
            "[1,  4000] loss: 1.617\n",
            "[1,  6000] loss: 1.597\n",
            "Accuracy of the network on the 10000 test images: 87 %\n",
            "[2,  2000] loss: 1.589\n",
            "[2,  4000] loss: 1.529\n",
            "[2,  6000] loss: 1.489\n",
            "Accuracy of the network on the 10000 test images: 98 %\n",
            "[3,  2000] loss: 1.484\n",
            "[3,  4000] loss: 1.482\n",
            "[3,  6000] loss: 1.481\n",
            "Accuracy of the network on the 10000 test images: 98 %\n",
            "[4,  2000] loss: 1.479\n",
            "[4,  4000] loss: 1.477\n",
            "[4,  6000] loss: 1.478\n",
            "Accuracy of the network on the 10000 test images: 98 %\n",
            "[5,  2000] loss: 1.476\n",
            "[5,  4000] loss: 1.476\n",
            "[5,  6000] loss: 1.475\n",
            "Accuracy of the network on the 10000 test images: 98 %\n",
            "[6,  2000] loss: 1.474\n",
            "[6,  4000] loss: 1.474\n",
            "[6,  6000] loss: 1.474\n",
            "Accuracy of the network on the 10000 test images: 98 %\n",
            "[7,  2000] loss: 1.473\n",
            "[7,  4000] loss: 1.473\n",
            "[7,  6000] loss: 1.473\n",
            "Accuracy of the network on the 10000 test images: 99 %\n",
            "[8,  2000] loss: 1.472\n",
            "[8,  4000] loss: 1.471\n",
            "[8,  6000] loss: 1.470\n",
            "Accuracy of the network on the 10000 test images: 98 %\n",
            "[9,  2000] loss: 1.471\n",
            "[9,  4000] loss: 1.471\n",
            "[9,  6000] loss: 1.471\n",
            "Accuracy of the network on the 10000 test images: 99 %\n",
            "[10,  2000] loss: 1.470\n"
          ]
        }
      ],
      "source": [
        "best_accuracy = -1.0\n",
        "for epoch in range(start_epoch,end_epoch):  # loop over the dataset multiple times\n",
        "    running_loss = 0.0\n",
        "    for i, data in enumerate( trainloader, 0):\n",
        "        # get the inputs; data is a list of [inputs, labels]\n",
        "        inputs, labels = data\n",
        "\n",
        "        inputs = inputs.to(device)\n",
        "        labels = labels.to(device)\n",
        "\n",
        "        # zero the parameter gradients\n",
        "        optimizer.zero_grad()\n",
        "\n",
        "        # forward + backward + optimize\n",
        "        outputs = net(inputs)\n",
        "        loss = criterion(outputs, labels)\n",
        "        loss.backward()\n",
        "        optimizer.step()\n",
        "\n",
        "        # print statistics\n",
        "        running_loss += loss.item()\n",
        "        if i % 2000 == 1999:    # print every 2000 mini-batches\n",
        "            print(f'[{epoch + 1}, {i + 1:5d}] loss: {running_loss / 2000:.3f}')\n",
        "            running_loss = 0.0\n",
        "\n",
        "    current_accuracy = validator(testloader=testloader,net=net)\n",
        "    if current_accuracy>best_accuracy:\n",
        "        best_accuracy = current_accuracy\n",
        "\n",
        "        torch.save(\n",
        "            {'epoch':epoch,\n",
        "             'model_state_dict': net.state_dict(),\n",
        "             'optimizer_state_dict': optimizer.state_dict()\n",
        "             },\n",
        "\n",
        "             your_google_drive_path+'best_model.pth')\n",
        "    #Save model as checkpoint\n",
        "    torch.save(\n",
        "        {'epoch':epoch,\n",
        "         'model_state_dict': net.state_dict(),\n",
        "         'optimizer_state_dict': optimizer.state_dict()\n",
        "         },\n",
        "         your_google_drive_path+'checkpoint.pth')\n",
        "print('Finished Training')"
      ]
    },
    {
      "cell_type": "markdown",
      "metadata": {
        "id": "_67hB5b-EBL2"
      },
      "source": [
        "Ground Truth\n",
        "\n",
        "\n"
      ]
    },
    {
      "cell_type": "code",
      "execution_count": null,
      "metadata": {
        "id": "C7yeNA1NSx9n"
      },
      "outputs": [],
      "source": [
        "dataiter = iter(testloader)\n",
        "images, labels = next(dataiter)\n"
      ]
    },
    {
      "cell_type": "markdown",
      "metadata": {
        "id": "vZeOUltAELyq"
      },
      "source": [
        "Prediction"
      ]
    },
    {
      "cell_type": "code",
      "execution_count": null,
      "metadata": {
        "id": "Rf_zJRf_TH4n"
      },
      "outputs": [],
      "source": [
        "net_best = Net().to(device)\n",
        "checkpoint = torch.load(your_google_drive_path+'best_model.pth')\n",
        "net_best.load_state_dict(checkpoint['model_state_dict'])\n",
        "\n",
        "\n",
        "images = images.to(device)\n",
        "labels = labels.to(device)\n",
        "\n",
        "outputs = net_best(images)"
      ]
    },
    {
      "cell_type": "code",
      "execution_count": null,
      "metadata": {
        "colab": {
          "base_uri": "https://localhost:8080/"
        },
        "id": "TB8nKA1hTKf-",
        "outputId": "a69b61b2-519f-4ad2-c503-14f68f10923b"
      },
      "outputs": [
        {
          "name": "stdout",
          "output_type": "stream",
          "text": [
            "GroundTruth:  7     2     1     0     4     1     4     9    \n",
            "Predicted:    7     2     1     0     4     1     4     9    \n"
          ]
        }
      ],
      "source": [
        "_, predicted = torch.max(outputs, 1)\n",
        "print('GroundTruth: ', ' '.join(f'{classes[labels[j]]:5s}' for j in range(8)))\n",
        "print('Predicted:   ', ' '.join(f'{classes[predicted[j]]:5s}' for j in range(8)))\n"
      ]
    },
    {
      "cell_type": "markdown",
      "metadata": {
        "id": "liNa268ACwD1"
      },
      "source": [
        "# Custom Dataset"
      ]
    },
    {
      "cell_type": "code",
      "execution_count": null,
      "metadata": {
        "id": "ItkzFd9hTXXK"
      },
      "outputs": [],
      "source": [
        "from PIL import Image\n",
        "from torch.utils.data import Dataset\n",
        "class CustomDataset(Dataset):\n",
        "    def __init__(self, data_folder, transform=None):\n",
        "        self.data_folder = data_folder\n",
        "        self.transform = transform\n",
        "        self.classes = os.listdir(data_folder)\n",
        "        self.data = self._load_data()\n",
        "\n",
        "    def _load_data(self):\n",
        "        data = []\n",
        "        for i, class_folder in enumerate(self.classes):\n",
        "            class_path = os.path.join(self.data_folder, class_folder)\n",
        "            for img_name in os.listdir(class_path):\n",
        "                img_path = os.path.join(class_path, img_name)\n",
        "                data.append((img_path, i))\n",
        "        return data\n",
        "\n",
        "    def __len__(self):\n",
        "        return len(self.data)\n",
        "\n",
        "    def __getitem__(self, idx):\n",
        "        img_path, label = self.data[idx]\n",
        "        img = Image.open(img_path)\n",
        "\n",
        "        if self.transform:\n",
        "            img = self.transform(img)\n",
        "\n",
        "        return img, label"
      ]
    },
    {
      "cell_type": "code",
      "execution_count": null,
      "metadata": {
        "id": "J0usEUGeTbwX"
      },
      "outputs": [],
      "source": [
        "transform_1 = transforms.Compose(\n",
        "    [transforms.ToTensor(),\n",
        "     transforms.Normalize((0.5), (0.5))])\n",
        "data=CustomDataset(data_folder=\"/content/HINDI_NUMERALS\",transform=transform_1)"
      ]
    },
    {
      "cell_type": "code",
      "execution_count": null,
      "metadata": {
        "colab": {
          "base_uri": "https://localhost:8080/",
          "height": 147
        },
        "id": "Ghr2d3wITg-6",
        "outputId": "4e0d1280-60b6-43af-b87c-d3aa18e6c546"
      },
      "outputs": [
        {
          "data": {
            "image/png": "[encoded data removed]",
            "text/plain": [
              "<Figure size 640x480 with 1 Axes>"
            ]
          },
          "metadata": {},
          "output_type": "display_data"
        },
        {
          "name": "stdout",
          "output_type": "stream",
          "text": [
            "1     7     7     4     8     8     2     0    \n"
          ]
        }
      ],
      "source": [
        "train_size = int(0.8 * len(data))\n",
        "test_size = len(data) - train_size\n",
        "batch_size=8\n",
        "# Randomly split the dataset into train and test sets\n",
        "train_dataset, test_dataset = torch.utils.data.random_split(data, [train_size, test_size])\n",
        "trainloader = torch.utils.data.DataLoader(dataset=train_dataset, batch_size=batch_size, shuffle=True)\n",
        "testloader = torch.utils.data.DataLoader(dataset=test_dataset, batch_size=batch_size, shuffle=True)\n",
        "classes = data.classes\n",
        "dataiter = iter(trainloader)\n",
        "images, labels = next(dataiter) #4 images will be there since batch size is 4, images have [batch,channel,heigh,width]\n",
        "# show images\n",
        "imshow(torchvision.utils.make_grid(images))\n",
        "# print labels\n",
        "print(' '.join(f'{classes[labels[j]]:5s}' for j in range(8)))"
      ]
    },
    {
      "cell_type": "code",
      "execution_count": null,
      "metadata": {
        "id": "af3hVCkMT9Pl"
      },
      "outputs": [],
      "source": [
        "start_epoch=0\n",
        "end_epoch=10"
      ]
    },
    {
      "cell_type": "code",
      "execution_count": null,
      "metadata": {
        "id": "leye7JUAltWR"
      },
      "outputs": [],
      "source": [
        "net_a=Net().to(device)"
      ]
    },
    {
      "cell_type": "code",
      "execution_count": null,
      "metadata": {
        "id": "lToTpORVom-I"
      },
      "outputs": [],
      "source": [
        "criterion = nn.CrossEntropyLoss()\n",
        "optimizer = optim.SGD(net_a.parameters(), lr=0.001, momentum=0.9)"
      ]
    },
    {
      "cell_type": "code",
      "execution_count": null,
      "metadata": {
        "colab": {
          "base_uri": "https://localhost:8080/"
        },
        "id": "bg2hnbrOUBCx",
        "outputId": "90f1c330-7595-41fb-c3a4-ef233a00ac75"
      },
      "outputs": [
        {
          "name": "stdout",
          "output_type": "stream",
          "text": [
            "Accuracy of the network on the 200 test images: 84 %\n",
            "Accuracy of the network on the 200 test images: 78 %\n",
            "Accuracy of the network on the 200 test images: 85 %\n",
            "Accuracy of the network on the 200 test images: 83 %\n",
            "Accuracy of the network on the 200 test images: 86 %\n",
            "Accuracy of the network on the 200 test images: 84 %\n",
            "Accuracy of the network on the 200 test images: 85 %\n",
            "Accuracy of the network on the 200 test images: 89 %\n",
            "Accuracy of the network on the 200 test images: 88 %\n",
            "Accuracy of the network on the 200 test images: 92 %\n",
            "Finished Training\n"
          ]
        }
      ],
      "source": [
        "best_accuracy = -1.0\n",
        "for epoch in range(start_epoch,end_epoch):  # loop over the dataset multiple times\n",
        "    running_loss = 0.0\n",
        "    for i, data in enumerate( trainloader, 0):\n",
        "        # get the inputs; data is a list of [inputs, labels]\n",
        "        inputs, labels = data\n",
        "\n",
        "        inputs = inputs.to(device)\n",
        "        labels = labels.to(device)\n",
        "\n",
        "        # zero the parameter gradients\n",
        "        optimizer.zero_grad()\n",
        "\n",
        "        # forward + backward + optimize\n",
        "        outputs = net_a(inputs)\n",
        "        loss = criterion(outputs, labels)\n",
        "        loss.backward()\n",
        "        optimizer.step()\n",
        "\n",
        "        # print statistics\n",
        "        running_loss += loss.item()\n",
        "        if i % 2000 == 1999:    # print every 2000 mini-batches\n",
        "            print(f'[{epoch + 1}, {i + 1:5d}] loss: {running_loss / 2000:.3f}')\n",
        "            running_loss = 0.0\n",
        "\n",
        "    current_accuracy = validator(testloader=testloader,net=net_a)\n",
        "    if current_accuracy>best_accuracy:\n",
        "        best_accuracy = current_accuracy\n",
        "\n",
        "        torch.save(\n",
        "            {'epoch':epoch,\n",
        "             'model_state_dict': net_a.state_dict(),\n",
        "             'optimizer_state_dict': optimizer.state_dict()\n",
        "             },\n",
        "\n",
        "             your_google_drive_path+'hindi_best_model.pth')\n",
        "\n",
        "    #Save model as checkpoint\n",
        "    torch.save(\n",
        "        {'epoch':epoch,\n",
        "         'model_state_dict': net_a.state_dict(),\n",
        "         'optimizer_state_dict': optimizer.state_dict()\n",
        "         },\n",
        "         your_google_drive_path+'hindi_checkpoint.pth')\n",
        "print('Finished Training')"
      ]
    },
    {
      "cell_type": "markdown",
      "metadata": {
        "id": "fGstKerjDHVu"
      },
      "source": [
        "Ground Truth Images for Custom Dataset"
      ]
    },
    {
      "cell_type": "code",
      "execution_count": null,
      "metadata": {
        "colab": {
          "base_uri": "https://localhost:8080/",
          "height": 147
        },
        "id": "4nivaaU2UH2z",
        "outputId": "d44cc139-1bc9-4054-de7f-4103baf6a215"
      },
      "outputs": [
        {
          "data": {
            "image/png": "[encoded data removed]",
            "text/plain": [
              "<Figure size 640x480 with 1 Axes>"
            ]
          },
          "metadata": {},
          "output_type": "display_data"
        },
        {
          "name": "stdout",
          "output_type": "stream",
          "text": [
            "Predicted:    7     2     1     0     4     1     4     9    \n"
          ]
        }
      ],
      "source": [
        "dataiter = iter(testloader)\n",
        "images, labels = next(dataiter)\n",
        "# print images\n",
        "imshow(torchvision.utils.make_grid(images))\n",
        "print('Predicted:   ', ' '.join(f'{classes[predicted[j]]:5s}' for j in range(8)))"
      ]
    },
    {
      "cell_type": "markdown",
      "metadata": {
        "id": "tTwQFEzNDUhw"
      },
      "source": [
        "Predicting the labels for above images"
      ]
    },
    {
      "cell_type": "code",
      "execution_count": null,
      "metadata": {
        "id": "UuD70YRpULLH"
      },
      "outputs": [],
      "source": [
        "net_best = Net().to(device)\n",
        "checkpoint = torch.load(your_google_drive_path+'hindi_best_model.pth')\n",
        "net_best.load_state_dict(checkpoint['model_state_dict'])\n",
        "\n",
        "\n",
        "images = images.to(device)\n",
        "labels = labels.to(device)\n",
        "\n",
        "outputs = net_best(images)"
      ]
    },
    {
      "cell_type": "code",
      "execution_count": null,
      "metadata": {
        "colab": {
          "base_uri": "https://localhost:8080/"
        },
        "id": "3OC_-k-YUPqz",
        "outputId": "e60ed9de-745e-4803-8f54-dcee8b6dff91"
      },
      "outputs": [
        {
          "name": "stdout",
          "output_type": "stream",
          "text": [
            "GroundTruth:  2     5     3     8     1     4     6     2    \n",
            "Predicted:    2     5     3     8     1     4     6     2    \n"
          ]
        }
      ],
      "source": [
        "_, predicted = torch.max(outputs, 1)\n",
        "print('GroundTruth: ', ' '.join(f'{classes[labels[j]]:5s}' for j in range(8)))\n",
        "print('Predicted:   ', ' '.join(f'{classes[predicted[j]]:5s}' for j in range(8)))"
      ]
    },
    {
      "cell_type": "markdown",
      "metadata": {
        "id": "k5mNP1T391wG"
      },
      "source": [
        "# Fine Tuning\n",
        "Initial weights are taken from classification model of  MNIST Model"
      ]
    },
    {
      "cell_type": "code",
      "execution_count": null,
      "metadata": {
        "id": "TWY9KB00UgXa"
      },
      "outputs": [],
      "source": [
        "net_b=Net().to(device)\n",
        "criterion = nn.CrossEntropyLoss()\n",
        "optimizer = optim.SGD(net_b.parameters(), lr=0.001, momentum=0.9)\n",
        "checkpoint = torch.load(your_google_drive_path+'best_model.pth')\n",
        "start_epoch = checkpoint['epoch']+1\n",
        "net_b.load_state_dict(checkpoint['model_state_dict'])\n",
        "optimizer.load_state_dict(checkpoint['optimizer_state_dict'])"
      ]
    },
    {
      "cell_type": "markdown",
      "metadata": {
        "id": "HYYoI8F3-cyg"
      },
      "source": [
        "Set requires_grad for all layers except last two as False"
      ]
    },
    {
      "cell_type": "code",
      "execution_count": null,
      "metadata": {
        "id": "jO4WXLmJUmUu"
      },
      "outputs": [],
      "source": [
        "for param in net_b.parameters():\n",
        "    param.requires_grad = False\n",
        "# Unfreeze the last few layers\n",
        "for param in net_b.fc1.parameters():\n",
        "    param.requires_grad = True"
      ]
    },
    {
      "cell_type": "code",
      "execution_count": null,
      "metadata": {
        "id": "M-jC5kkA5kw5"
      },
      "outputs": [],
      "source": [
        "optimizer = optim.SGD(net_b.parameters(), lr=0.001, momentum=0.9)"
      ]
    },
    {
      "cell_type": "code",
      "execution_count": null,
      "metadata": {
        "colab": {
          "base_uri": "https://localhost:8080/"
        },
        "id": "12f_uGJRWhnX",
        "outputId": "15e9d182-001b-42e5-f4c0-9b5ceb432939"
      },
      "outputs": [
        {
          "name": "stdout",
          "output_type": "stream",
          "text": [
            "Accuracy of the network on the 200 test images: 87 %\n",
            "Accuracy of the network on the 200 test images: 85 %\n",
            "Accuracy of the network on the 200 test images: 89 %\n",
            "Accuracy of the network on the 200 test images: 90 %\n",
            "Accuracy of the network on the 200 test images: 87 %\n",
            "Accuracy of the network on the 200 test images: 86 %\n",
            "Accuracy of the network on the 200 test images: 88 %\n",
            "Accuracy of the network on the 200 test images: 88 %\n",
            "Accuracy of the network on the 200 test images: 87 %\n",
            "Accuracy of the network on the 200 test images: 87 %\n",
            "Finished Training\n"
          ]
        }
      ],
      "source": [
        "start_epoch=0\n",
        "best_accuracy = -1.0\n",
        "for epoch in range(start_epoch,end_epoch):  # loop over the dataset multiple times\n",
        "    running_loss = 0.0\n",
        "    for i, data in enumerate( trainloader, 0):\n",
        "        # get the inputs; data is a list of [inputs, labels]\n",
        "        inputs, labels = data\n",
        "\n",
        "        inputs = inputs.to(device)\n",
        "        labels = labels.to(device)\n",
        "\n",
        "        # zero the parameter gradients\n",
        "        optimizer.zero_grad()\n",
        "\n",
        "        # forward + backward + optimize\n",
        "        outputs = net_b(inputs)\n",
        "        loss = criterion(outputs, labels)\n",
        "        loss.backward()\n",
        "        optimizer.step()\n",
        "\n",
        "        # print statistics\n",
        "        running_loss += loss.item()\n",
        "        if i % 2000 == 1999:    # print every 2000 mini-batches\n",
        "            print(f'[{epoch + 1}, {i + 1:5d}] loss: {running_loss / 2000:.3f}')\n",
        "            running_loss = 0.0\n",
        "\n",
        "    current_accuracy = validator(testloader=testloader,net=net_b)\n",
        "    if current_accuracy>best_accuracy:\n",
        "        best_accuracy = current_accuracy\n",
        "\n",
        "        torch.save(\n",
        "            {'epoch':epoch,\n",
        "             'model_state_dict': net_b.state_dict(),\n",
        "             'optimizer_state_dict': optimizer.state_dict()\n",
        "             },\n",
        "\n",
        "             your_google_drive_path+'hindi_ft_best_model.pth')\n",
        "\n",
        "    #Save model as checkpoint\n",
        "    torch.save(\n",
        "        {'epoch':epoch,\n",
        "         'model_state_dict': net_b.state_dict(),\n",
        "         'optimizer_state_dict': optimizer.state_dict()\n",
        "         },\n",
        "         your_google_drive_path+'hindi_finetuned_checkpoint.pth')\n",
        "print('Finished Training')"
      ]
    },
    {
      "cell_type": "markdown",
      "metadata": {
        "id": "gftNB9S2-toa"
      },
      "source": [
        "Ground Truth"
      ]
    },
    {
      "cell_type": "code",
      "execution_count": null,
      "metadata": {
        "colab": {
          "base_uri": "https://localhost:8080/",
          "height": 210
        },
        "id": "ePJ5-nJhWwaQ",
        "outputId": "eaf6854c-999c-4be1-8e46-7d0a7ee6ec6b"
      },
      "outputs": [
        {
          "data": {
            "image/png": "[encoded data removed]",
            "text/plain": [
              "<Figure size 640x480 with 1 Axes>"
            ]
          },
          "metadata": {},
          "output_type": "display_data"
        },
        {
          "name": "stdout",
          "output_type": "stream",
          "text": [
            "GroundTruth:  5     2     5     2    \n"
          ]
        }
      ],
      "source": [
        "dataiter = iter(testloader)\n",
        "images, labels = next(dataiter)\n",
        "# print images\n",
        "imshow(torchvision.utils.make_grid(images))\n",
        "print('GroundTruth: ', ' '.join(f'{classes[labels[j]]:5s}' for j in range(4)))"
      ]
    },
    {
      "cell_type": "markdown",
      "metadata": {
        "id": "CXsFAK1O-wun"
      },
      "source": [
        "Predicting the above images using above"
      ]
    },
    {
      "cell_type": "code",
      "execution_count": null,
      "metadata": {
        "id": "IrZd4NfNW0B_"
      },
      "outputs": [],
      "source": [
        "net_best = Net().to(device)\n",
        "checkpoint = torch.load(your_google_drive_path+'hindi_ft_best_model.pth')\n",
        "net_best.load_state_dict(checkpoint['model_state_dict'])\n",
        "\n",
        "\n",
        "images = images.to(device)\n",
        "labels = labels.to(device)\n",
        "\n",
        "outputs = net_best(images)"
      ]
    },
    {
      "cell_type": "code",
      "execution_count": null,
      "metadata": {
        "colab": {
          "base_uri": "https://localhost:8080/"
        },
        "id": "WBtuhS7BW6Nc",
        "outputId": "161687d2-60d6-45f5-a1c2-4c824cdfcc93"
      },
      "outputs": [
        {
          "name": "stdout",
          "output_type": "stream",
          "text": [
            "GroundTruth:  2     5     3     8     1     4     6     2    \n",
            "Predicted:    2     5     3     8     1     4     6     2    \n"
          ]
        }
      ],
      "source": [
        "_, predicted = torch.max(outputs, 1)\n",
        "print('GroundTruth: ', ' '.join(f'{classes[labels[j]]:5s}' for j in range(8)))\n",
        "print('Predicted:   ', ' '.join(f'{classes[predicted[j]]:5s}' for j in range(8)))"
      ]
    },
    {
      "cell_type": "code",
      "execution_count": 1,
      "metadata": {
        "id": "KDjvPmqkllFx"
      },
      "outputs": [],
      "source": [
        "import zipfile\n",
        "zip_ref=zipfile.ZipFile('/content/HINDI_NUMERALS (2).zip')\n",
        "zip_ref.extractall('/content')\n",
        "zip_ref.close()"
      ]
    }
  ],
  "metadata": {
    "accelerator": "GPU",
    "colab": {
      "gpuType": "T4",
      "provenance": []
    },
    "kernelspec": {
      "display_name": "Python 3",
      "name": "python3"
    },
    "language_info": {
      "name": "python"
    }
  },
  "nbformat": 4,
  "nbformat_minor": 0
}
