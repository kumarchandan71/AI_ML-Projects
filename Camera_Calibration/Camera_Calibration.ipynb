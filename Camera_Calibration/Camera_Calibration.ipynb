{
  "nbformat": 4,
  "nbformat_minor": 0,
  "metadata": {
    "colab": {
      "provenance": []
    },
    "kernelspec": {
      "name": "python3",
      "display_name": "Python 3"
    },
    "language_info": {
      "name": "python"
    }
  },
  "cells": [
    {
      "cell_type": "markdown",
      "source": [
        "#Importing Libraries"
      ],
      "metadata": {
        "id": "ZSaF4XTRTP3Y"
      }
    },
    {
      "cell_type": "code",
      "execution_count": 87,
      "metadata": {
        "id": "eZaxos03cJDG"
      },
      "outputs": [],
      "source": [
        "import numpy as np\n",
        "import matplotlib.pyplot as plt\n",
        "import math\n",
        "import cv2\n",
        "import pandas as pd"
      ]
    },
    {
      "cell_type": "markdown",
      "source": [
        "#Function for convolution"
      ],
      "metadata": {
        "id": "1BIfHqEtTJJ3"
      }
    },
    {
      "cell_type": "code",
      "source": [
        "def conv(image,filter):\n",
        "  res=np.zeros(image.shape)\n",
        "  r,c=image.shape\n",
        "  image=np.insert(image,r,image[r-2,:],axis=0)\n",
        "  image=np.insert(image,0,image[1,:],axis=0)\n",
        "  image=np.insert(image,c,image[:,c-2],axis=1)\n",
        "  image=np.insert(image,0,image[:,1],axis=1)\n",
        "  r,c=image.shape\n",
        "  for i in range(1,r-1):\n",
        "    for j in range(1,c-1):\n",
        "      res[i-1,j-1]=(image[i-1:i+2,j-1:j+2]*filter).sum()\n",
        "  return res"
      ],
      "metadata": {
        "id": "0bM3BA4vcWAU"
      },
      "execution_count": 51,
      "outputs": []
    },
    {
      "cell_type": "markdown",
      "source": [
        "#Calibrating the image(All calculations are in m)"
      ],
      "metadata": {
        "id": "9eaSXB1eTUhh"
      }
    },
    {
      "cell_type": "code",
      "source": [
        "def calib(str1,z_0):\n",
        "    k=0.04\n",
        "    sobel_x = np.array([[-1, 0, 1],[-2, 0, 2],[-1, 0, 1]])\n",
        "    sobel_y = np.array([[-1, -2, -1],[0, 0, 0],[1, 2, 1]])\n",
        "    img_1=cv2.cvtColor(cv2.imread(str1),cv2.COLOR_BGR2GRAY).astype(np.float32)\n",
        "    I_x=conv(img_1,sobel_x)\n",
        "    I_y=conv(img_1,sobel_y)\n",
        "    Ixx=I_x**2\n",
        "    Iyy=I_y**2\n",
        "    Ixy = I_x *I_y\n",
        "    window_size=3\n",
        "    Ixx_sum = cv2.GaussianBlur(Ixx, (window_size, window_size), 0)\n",
        "    Iyy_sum = cv2.GaussianBlur(Iyy, (window_size, window_size), 0)\n",
        "    Ixy_sum = cv2.GaussianBlur(Ixy, (window_size, window_size), 0)\n",
        "    det_M = Ixx_sum * Iyy_sum - Ixy_sum ** 2\n",
        "    trace_M = Ixx_sum + Iyy_sum\n",
        "    R=det_M-k*trace_M**2\n",
        "    th=0.0005\n",
        "    R[R<th*np.max(R)]=0\n",
        "    corners = np.zeros(R.shape).astype(np.float32)\n",
        "    r,c=R.shape\n",
        "    for i in range(1,r-1):\n",
        "      for j in range(1,c-1):\n",
        "        if R[i, j] > 0:\n",
        "                    if (R[i, j] >= R[i - 1, j - 1] and\n",
        "                        R[i, j] >= R[i - 1, j] and\n",
        "                        R[i, j] >= R[i - 1, j + 1] and\n",
        "                        R[i, j] >= R[i, j - 1] and\n",
        "                        R[i, j] >= R[i, j + 1] and\n",
        "                        R[i, j] >= R[i + 1, j - 1] and\n",
        "                        R[i, j] >= R[i + 1, j] and\n",
        "                        R[i, j] >= R[i + 1, j + 1]):\n",
        "                        corners[i-1:i+2, j-1:j+2] = 0\n",
        "                        corners[i,j]=255\n",
        "    l,m=0,0\n",
        "    y=np.zeros((8,11,2))\n",
        "    r,c=corners.shape\n",
        "    for i in range(0,1024):\n",
        "        for j in range(0,1024):\n",
        "          if(corners[i][j]==255):\n",
        "              y[l,m,0]=i\n",
        "              m=m+1\n",
        "              if(m==11):\n",
        "                l=l+1\n",
        "                m=0\n",
        "    l=0\n",
        "    m=0\n",
        "    for j in range(0,1024):\n",
        "        for i in range(0,1024):\n",
        "          if(corners[i][j]==255):\n",
        "              y[l,m,1]=j\n",
        "              l=l+1\n",
        "              if(l==8):\n",
        "                m=m+1\n",
        "                l=0\n",
        "    l=0\n",
        "    m=0\n",
        "    X=np.array([[0,0,z_0/1000,1]])\n",
        "    z=np.zeros((1,4))\n",
        "    l1=np.hstack((z,-X,y[0,0,1]*X))\n",
        "    l2=np.hstack((X,z,-y[0,0,0]*X))\n",
        "    a= np.vstack((l1,l2))\n",
        "    for i in range(8):\n",
        "      for j in range(11):\n",
        "        if(i!=0 or j!=0):\n",
        "          X=np.array([[i*0.025,j*0.025,z_0/1000,1]])\n",
        "          z=np.zeros((1,4))\n",
        "          l1=np.hstack((z,-X,y[i,j,1]*X))\n",
        "          l2=np.hstack((X,z,-y[i,j,0]*X))\n",
        "          a= np.vstack((a,l2))\n",
        "          a= np.vstack((a,l1))\n",
        "    U, S, Vt = np.linalg.svd(a, full_matrices=False)\n",
        "    rank = np.linalg.matrix_rank(a)\n",
        "    eigenvector_min = Vt[rank, :]\n",
        "    P=eigenvector_min.reshape((3,4))\n",
        "    print(\"Calibration Matrix:\")\n",
        "    print(P/P[-1,-1])\n",
        "    return P"
      ],
      "metadata": {
        "id": "llMJ6rX1dNz6"
      },
      "execution_count": 589,
      "outputs": []
    },
    {
      "cell_type": "code",
      "source": [
        "z=pd.read_csv('z-dimension.csv')"
      ],
      "metadata": {
        "id": "mQTOunwynmyK"
      },
      "execution_count": 500,
      "outputs": []
    },
    {
      "cell_type": "markdown",
      "source": [
        "#Calibration and Intrinsic Camera Matrix for Image 1"
      ],
      "metadata": {
        "id": "y5VZVIagTZvN"
      }
    },
    {
      "cell_type": "code",
      "source": [
        "P=calib('c1.png',z.iloc[0,1])\n",
        "X=P\n",
        "P=P/P[-1,-1]\n",
        "P=P[:,:3]\n",
        "m1,m2,m3=P[0,:],P[1],P[2]\n",
        "r3=m3/np.linalg.norm(m3)\n",
        "e2=m2-(np.dot(m2.T,r3.T)*r3)\n",
        "r2=e2/np.linalg.norm(e2)\n",
        "e1=m1-(np.dot(m1.T,r3.T)*r3)-(np.dot(m1.T,r2.T)*r2)\n",
        "r1=e1/np.linalg.norm(e1)\n",
        "K=np.zeros((3,3))\n",
        "K[0,0]=np.dot(e1.T,r1.T)\n",
        "K[0,1]=np.dot(m1.T,r2.T)\n",
        "K[0,2]=np.dot(m1.T,r3.T)\n",
        "K[1,1]=np.dot(e2.T,r2.T)\n",
        "K[1,2]=np.dot(m2.T,r2.T)\n",
        "K[2,2]=np.dot(m3.T,r3.T)\n",
        "print(K)"
      ],
      "metadata": {
        "colab": {
          "base_uri": "https://localhost:8080/"
        },
        "id": "h1zWyIZEXE-W",
        "outputId": "58f1d749-db7c-451f-e9af-896b631310ff"
      },
      "execution_count": 600,
      "outputs": [
        {
          "output_type": "stream",
          "name": "stdout",
          "text": [
            "Calibration Matrix:\n",
            "[[ 2.18620173e-10  5.81651715e-13 -3.07632119e-02  1.23052848e-02]\n",
            " [ 6.13619027e-12  2.13359769e-10  2.19207524e-04 -8.76830067e-05]\n",
            " [ 4.26109485e-15  1.14900113e-15 -2.50000000e+00  1.00000000e+00]]\n",
            "[[2.18513043e-10 6.86629162e-12 3.07632119e-02]\n",
            " [0.00000000e+00 2.13447989e-10 2.13447989e-10]\n",
            " [0.00000000e+00 0.00000000e+00 2.50000000e+00]]\n"
          ]
        }
      ]
    },
    {
      "cell_type": "markdown",
      "source": [
        "#Calibration and Intrinsic Camera Matrix for Image 2"
      ],
      "metadata": {
        "id": "sqhfRiNiTkdr"
      }
    },
    {
      "cell_type": "code",
      "source": [
        "P=calib('c2.png',z.iloc[1,1])\n",
        "P=P/P[-1,-1]\n",
        "P=P[:,:3]\n",
        "m1,m2,m3=P[0,:],P[1],P[2]\n",
        "r3=m3/np.linalg.norm(m3)\n",
        "e2=m2-(np.dot(m2.T,r3.T)*r3)\n",
        "r2=e2/np.linalg.norm(e2)\n",
        "e1=m1-(np.dot(m1.T,r3.T)*r3)-(np.dot(m1.T,r2.T)*r2)\n",
        "r1=e1/np.linalg.norm(e1)\n",
        "K=np.zeros((3,3))\n",
        "K[0,0]=np.dot(e1.T,r1.T)\n",
        "K[0,1]=np.dot(m1.T,r2.T)\n",
        "K[0,2]=np.dot(m1.T,r3.T)\n",
        "K[1,1]=np.dot(e2.T,r2.T)\n",
        "K[1,2]=np.dot(m2.T,r2.T)\n",
        "K[2,2]=np.dot(m3.T,r3.T)\n",
        "print(K)"
      ],
      "metadata": {
        "colab": {
          "base_uri": "https://localhost:8080/"
        },
        "id": "5uUqifSqYEOx",
        "outputId": "3050c886-1fb9-4815-ba22-39b16bdb8ce3"
      },
      "execution_count": 591,
      "outputs": [
        {
          "output_type": "stream",
          "name": "stdout",
          "text": [
            "Calibration Matrix:\n",
            "[[ 3.41927770e-11  5.94866589e-14  3.37773095e-03 -1.68886547e-03]\n",
            " [ 8.09756418e-13  3.36363214e-11 -1.25973638e-05  6.29868356e-06]\n",
            " [ 9.44047107e-16  4.15342693e-16 -2.00000000e+00  1.00000000e+00]]\n",
            "[[ 3.41814430e-11  8.82383454e-13 -3.37773095e-03]\n",
            " [ 0.00000000e+00  3.36460670e-11  3.36460670e-11]\n",
            " [ 0.00000000e+00  0.00000000e+00  2.00000000e+00]]\n"
          ]
        }
      ]
    },
    {
      "cell_type": "markdown",
      "source": [
        "#Calibration and Intrinsic Camera Matrix for Image 3"
      ],
      "metadata": {
        "id": "jdd9C4SBTmDW"
      }
    },
    {
      "cell_type": "code",
      "source": [
        "P=calib('c3.png',z.iloc[2,1])\n",
        "P=P/P[-1,-1]\n",
        "P=P[:,:3]\n",
        "m1,m2,m3=P[0,:],P[1],P[2]\n",
        "r3=m3/np.linalg.norm(m3)\n",
        "e2=m2-(np.dot(m2.T,r3.T)*r3)\n",
        "r2=e2/np.linalg.norm(e2)\n",
        "e1=m1-(np.dot(m1.T,r3.T)*r3)-(np.dot(m1.T,r2.T)*r2)\n",
        "r1=e1/np.linalg.norm(e1)\n",
        "K=np.zeros((3,3))\n",
        "K[0,0]=np.dot(e1.T,r1.T)\n",
        "K[0,1]=np.dot(m1.T,r2.T)\n",
        "K[0,2]=np.dot(m1.T,r3.T)\n",
        "K[1,1]=np.dot(e2.T,r2.T)\n",
        "K[1,2]=np.dot(m2.T,r2.T)\n",
        "K[2,2]=np.dot(m3.T,r3.T)\n",
        "print(K)"
      ],
      "metadata": {
        "colab": {
          "base_uri": "https://localhost:8080/"
        },
        "id": "Za6AjVCLYQ2K",
        "outputId": "aee6c366-18d7-4084-8218-224370d6a9bb"
      },
      "execution_count": 592,
      "outputs": [
        {
          "output_type": "stream",
          "name": "stdout",
          "text": [
            "Calibration Matrix:\n",
            "[[-9.09954441e-11 -7.67133048e-13 -8.35626107e-04  5.01375652e-04]\n",
            " [ 2.99433028e-12 -9.42577228e-11  3.25741827e-04 -1.95445105e-04]\n",
            " [ 3.26967069e-16 -1.05232970e-15 -1.66666667e+00  1.00000000e+00]]\n",
            "[[ 9.09739215e-11 -2.12249221e-12  8.35626107e-04]\n",
            " [ 0.00000000e+00  9.43052722e-11  9.43052719e-11]\n",
            " [ 0.00000000e+00  0.00000000e+00  1.66666667e+00]]\n"
          ]
        }
      ]
    },
    {
      "cell_type": "markdown",
      "source": [
        "#Calibration and Intrinsic Camera Matrix for Image 4"
      ],
      "metadata": {
        "id": "91OJL7EWTngu"
      }
    },
    {
      "cell_type": "code",
      "source": [
        "P=calib('c4.png',z.iloc[3,1])\n",
        "P=P/P[-1,-1]\n",
        "P=P[:,:3]\n",
        "m1,m2,m3=P[0,:],P[1],P[2]\n",
        "r3=m3/np.linalg.norm(m3)\n",
        "e2=m2-(np.dot(m2.T,r3.T)*r3)\n",
        "r2=e2/np.linalg.norm(e2)\n",
        "e1=m1-(np.dot(m1.T,r3.T)*r3)-(np.dot(m1.T,r2.T)*r2)\n",
        "r1=e1/np.linalg.norm(e1)\n",
        "K=np.zeros((3,3))\n",
        "K[0,0]=np.dot(e1.T,r1.T)\n",
        "K[0,1]=np.dot(m1.T,r2.T)\n",
        "K[0,2]=np.dot(m1.T,r3.T)\n",
        "K[1,1]=np.dot(e2.T,r2.T)\n",
        "K[1,2]=np.dot(m2.T,r2.T)\n",
        "K[2,2]=np.dot(m3.T,r3.T)\n",
        "print(K)"
      ],
      "metadata": {
        "colab": {
          "base_uri": "https://localhost:8080/"
        },
        "id": "6vk3-UY2YWXQ",
        "outputId": "df1091f1-9433-429c-e263-ed73da9f4123"
      },
      "execution_count": 593,
      "outputs": [
        {
          "output_type": "stream",
          "name": "stdout",
          "text": [
            "Calibration Matrix:\n",
            "[[-7.58141363e-11 -6.30373410e-13  1.13173415e-04 -7.92214020e-05]\n",
            " [-4.70766374e-12 -7.08269141e-11  6.39195637e-04 -4.47436955e-04]\n",
            " [-2.79673472e-15  4.46424207e-16 -1.42857143e+00  1.00000000e+00]]\n",
            "[[ 7.56054134e-11  5.65704268e-12 -1.13173415e-04]\n",
            " [ 0.00000000e+00  7.09831941e-11  7.09831942e-11]\n",
            " [ 0.00000000e+00  0.00000000e+00  1.42857143e+00]]\n"
          ]
        }
      ]
    },
    {
      "cell_type": "markdown",
      "source": [
        "#Calibration and Intrinsic Camera Matrix for Image 5"
      ],
      "metadata": {
        "id": "uCq1_ZxMTo1h"
      }
    },
    {
      "cell_type": "code",
      "source": [
        "P=calib('c5.png',z.iloc[4,1])\n",
        "P=P/P[-1,-1]\n",
        "P=P[:,:3]\n",
        "m1,m2,m3=P[0,:],P[1],P[2]\n",
        "r3=m3/np.linalg.norm(m3)\n",
        "e2=m2-(np.dot(m2.T,r3.T)*r3)\n",
        "r2=e2/np.linalg.norm(e2)\n",
        "e1=m1-(np.dot(m1.T,r3.T)*r3)-(np.dot(m1.T,r2.T)*r2)\n",
        "r1=e1/np.linalg.norm(e1)\n",
        "K=np.zeros((3,3))\n",
        "K[0,0]=np.dot(e1.T,r1.T)\n",
        "K[0,1]=np.dot(m1.T,r2.T)\n",
        "K[0,2]=np.dot(m1.T,r3.T)\n",
        "K[1,1]=np.dot(e2.T,r2.T)\n",
        "K[1,2]=np.dot(m2.T,r2.T)\n",
        "K[2,2]=np.dot(m3.T,r3.T)\n",
        "print(K)"
      ],
      "metadata": {
        "colab": {
          "base_uri": "https://localhost:8080/"
        },
        "id": "-NjJkAMhYac7",
        "outputId": "bd8196ec-f7c4-40eb-8acd-104fce1650fd"
      },
      "execution_count": 594,
      "outputs": [
        {
          "output_type": "stream",
          "name": "stdout",
          "text": [
            "Calibration Matrix:\n",
            "[[ 1.89867917e-11  4.82393870e-13 -4.90895995e-04  3.92716800e-04]\n",
            " [ 2.13988451e-13  1.98105834e-11 -7.64128425e-04  6.11302743e-04]\n",
            " [ 8.15186976e-16  1.85153245e-16 -1.25000000e+00  1.00000000e+00]]\n",
            "[[1.89804735e-11 6.87443371e-13 4.90895995e-04]\n",
            " [0.00000000e+00 1.98117390e-11 1.98117391e-11]\n",
            " [0.00000000e+00 0.00000000e+00 1.25000000e+00]]\n"
          ]
        }
      ]
    },
    {
      "cell_type": "markdown",
      "source": [
        "#Calibration and Intrinsic Camera Matrix for Image 6"
      ],
      "metadata": {
        "id": "eZQRYpe_Tp-r"
      }
    },
    {
      "cell_type": "code",
      "source": [
        "P=calib('c6.png',z.iloc[5,1])\n",
        "P=P/P[-1,-1]\n",
        "P=P[:,:3]\n",
        "m1,m2,m3=P[0,:],P[1],P[2]\n",
        "r3=m3/np.linalg.norm(m3)\n",
        "e2=m2-(np.dot(m2.T,r3.T)*r3)\n",
        "r2=e2/np.linalg.norm(e2)\n",
        "e1=m1-(np.dot(m1.T,r3.T)*r3)-(np.dot(m1.T,r2.T)*r2)\n",
        "r1=e1/np.linalg.norm(e1)\n",
        "K=np.zeros((3,3))\n",
        "K[0,0]=np.dot(e1.T,r1.T)\n",
        "K[0,1]=np.dot(m1.T,r2.T)\n",
        "K[0,2]=np.dot(m1.T,r3.T)\n",
        "K[1,1]=np.dot(e2.T,r2.T)\n",
        "K[1,2]=np.dot(m2.T,r2.T)\n",
        "K[2,2]=np.dot(m3.T,r3.T)\n",
        "print(K)"
      ],
      "metadata": {
        "colab": {
          "base_uri": "https://localhost:8080/"
        },
        "id": "Cpo9WajQYq7p",
        "outputId": "9c3ea860-cbd5-4f6c-ded8-8f08356cc259"
      },
      "execution_count": 595,
      "outputs": [
        {
          "output_type": "stream",
          "name": "stdout",
          "text": [
            "Calibration Matrix:\n",
            "[[ 1.04822843e-11 -6.44832391e-13  1.80352309e-04 -1.62317076e-04]\n",
            " [ 3.95208180e-12  8.82684128e-12  1.69315627e-04 -1.52384062e-04]\n",
            " [ 2.15270181e-15  1.48041199e-16 -1.11111111e+00  1.00000000e+00]]\n",
            "[[ 9.83062170e-12  3.69499348e-12 -1.80352309e-04]\n",
            " [ 0.00000000e+00  9.67119851e-12  9.67119835e-12]\n",
            " [ 0.00000000e+00  0.00000000e+00  1.11111111e+00]]\n"
          ]
        }
      ]
    },
    {
      "cell_type": "markdown",
      "source": [
        "#Calibration and Intrinsic Camera Matrix for Image 7"
      ],
      "metadata": {
        "id": "MSEwkS-jTrPi"
      }
    },
    {
      "cell_type": "code",
      "source": [
        "P=calib('c7.png',z.iloc[6,1])\n",
        "P=P/P[-1,-1]\n",
        "P=P[:,:3]\n",
        "m1,m2,m3=P[0,:],P[1],P[2]\n",
        "r3=m3/np.linalg.norm(m3)\n",
        "e2=m2-(np.dot(m2.T,r3.T)*r3)\n",
        "r2=e2/np.linalg.norm(e2)\n",
        "e1=m1-(np.dot(m1.T,r3.T)*r3)-(np.dot(m1.T,r2.T)*r2)\n",
        "r1=e1/np.linalg.norm(e1)\n",
        "K=np.zeros((3,3))\n",
        "K[0,0]=np.dot(e1.T,r1.T)\n",
        "K[0,1]=np.dot(m1.T,r2.T)\n",
        "K[0,2]=np.dot(m1.T,r3.T)\n",
        "K[1,1]=np.dot(e2.T,r2.T)\n",
        "K[1,2]=np.dot(m2.T,r2.T)\n",
        "K[2,2]=np.dot(m3.T,r3.T)\n",
        "print(K)"
      ],
      "metadata": {
        "colab": {
          "base_uri": "https://localhost:8080/"
        },
        "id": "29_cMWIkeFEw",
        "outputId": "e8e3e109-fa0c-43a5-bed7-4e4562aeab53"
      },
      "execution_count": 596,
      "outputs": [
        {
          "output_type": "stream",
          "name": "stdout",
          "text": [
            "Calibration Matrix:\n",
            "[[-1.52295159e-11 -3.31350915e-13 -7.40426418e-04  7.40426414e-04]\n",
            " [ 2.21776010e-14 -1.42322002e-11  3.00409912e-05 -3.00409946e-05]\n",
            " [-1.83615170e-15 -5.83092011e-16 -1.00000000e+00  1.00000000e+00]]\n",
            "[[1.52300124e-11 3.07618913e-13 7.40426418e-04]\n",
            " [0.00000000e+00 1.42322175e-11 1.42322175e-11]\n",
            " [0.00000000e+00 0.00000000e+00 1.00000000e+00]]\n"
          ]
        }
      ]
    },
    {
      "cell_type": "markdown",
      "source": [
        "#Calibration and Intrinsic Camera Matrix for Image 8"
      ],
      "metadata": {
        "id": "-NUoWBZqTuso"
      }
    },
    {
      "cell_type": "code",
      "source": [
        "P=calib('c8.png',z.iloc[7,1])\n",
        "P=P/P[-1,-1]\n",
        "P=P[:,:3]\n",
        "m1,m2,m3=P[0,:],P[1],P[2]\n",
        "r3=m3/np.linalg.norm(m3)\n",
        "e2=m2-(np.dot(m2.T,r3.T)*r3)\n",
        "r2=e2/np.linalg.norm(e2)\n",
        "e1=m1-(np.dot(m1.T,r3.T)*r3)-(np.dot(m1.T,r2.T)*r2)\n",
        "r1=e1/np.linalg.norm(e1)\n",
        "K=np.zeros((3,3))\n",
        "K[0,0]=np.dot(e1.T,r1.T)\n",
        "K[0,1]=np.dot(m1.T,r2.T)\n",
        "K[0,2]=np.dot(m1.T,r3.T)\n",
        "K[1,1]=np.dot(e2.T,r2.T)\n",
        "K[1,2]=np.dot(m2.T,r2.T)\n",
        "K[2,2]=np.dot(m3.T,r3.T)\n",
        "print(K)"
      ],
      "metadata": {
        "colab": {
          "base_uri": "https://localhost:8080/"
        },
        "id": "1uQAZqRSeqX7",
        "outputId": "2b91fa65-f29e-4f53-b86e-1556b3a05f25"
      },
      "execution_count": 597,
      "outputs": [
        {
          "output_type": "stream",
          "name": "stdout",
          "text": [
            "Calibration Matrix:\n",
            "[[-5.88310077e-11 -2.47922705e-12  2.70826361e-03 -2.97908999e-03]\n",
            " [-5.73718025e-12 -5.24704723e-11  1.74454043e-03 -1.91899449e-03]\n",
            " [-8.80394516e-15 -2.18272200e-15 -9.09090909e-01  1.00000000e+00]]\n",
            "[[ 5.82130007e-11  8.85909347e-12 -2.70826361e-03]\n",
            " [ 0.00000000e+00  5.27832013e-11  5.27831953e-11]\n",
            " [ 0.00000000e+00  0.00000000e+00  9.09090909e-01]]\n"
          ]
        }
      ]
    },
    {
      "cell_type": "markdown",
      "source": [
        "#Calibration and Intrinsic Camera Matrix for Image 9"
      ],
      "metadata": {
        "id": "SRyaxBTxTtJp"
      }
    },
    {
      "cell_type": "code",
      "source": [
        "P=calib('c9.png',z.iloc[8,1])\n",
        "P=P/P[-1,-1]\n",
        "P=P[:,:3]\n",
        "m1,m2,m3=P[0,:],P[1],P[2]\n",
        "r3=m3/np.linalg.norm(m3)\n",
        "e2=m2-(np.dot(m2.T,r3.T)*r3)\n",
        "r2=e2/np.linalg.norm(e2)\n",
        "e1=m1-(np.dot(m1.T,r3.T)*r3)-(np.dot(m1.T,r2.T)*r2)\n",
        "r1=e1/np.linalg.norm(e1)\n",
        "K=np.zeros((3,3))\n",
        "K[0,0]=np.dot(e1.T,r1.T)\n",
        "K[0,1]=np.dot(m1.T,r2.T)\n",
        "K[0,2]=np.dot(m1.T,r3.T)\n",
        "K[1,1]=np.dot(e2.T,r2.T)\n",
        "K[1,2]=np.dot(m2.T,r2.T)\n",
        "K[2,2]=np.dot(m3.T,r3.T)\n",
        "print(\"K- Matrix is :\")\n",
        "print(K)"
      ],
      "metadata": {
        "colab": {
          "base_uri": "https://localhost:8080/"
        },
        "id": "gYVjwoMjethZ",
        "outputId": "bb5e136e-ce9c-4c34-b775-f5e2c40d57c1"
      },
      "execution_count": 598,
      "outputs": [
        {
          "output_type": "stream",
          "name": "stdout",
          "text": [
            "Calibration Matrix:\n",
            "[[-1.68504871e-11 -3.06310303e-12 -2.58003546e-04  3.09604251e-04]\n",
            " [-2.43879913e-12 -1.56287443e-11  1.66267427e-04 -1.99520916e-04]\n",
            " [-4.98984797e-15 -3.62698693e-15 -8.33333333e-01  1.00000000e+00]]\n",
            "K- Matrix is :\n",
            "[[1.61767319e-11 5.62448383e-12 2.58003546e-04]\n",
            " [0.00000000e+00 1.58178829e-11 1.58178820e-11]\n",
            " [0.00000000e+00 0.00000000e+00 8.33333333e-01]]\n"
          ]
        }
      ]
    }
  ]
}